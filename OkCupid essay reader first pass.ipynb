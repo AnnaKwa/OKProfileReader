{
 "cells": [
  {
   "cell_type": "markdown",
   "metadata": {},
   "source": [
    "### essay writing style and demographics prediction"
   ]
  },
  {
   "cell_type": "code",
   "execution_count": 2,
   "metadata": {
    "collapsed": false
   },
   "outputs": [
    {
     "name": "stderr",
     "output_type": "stream",
     "text": [
      "/home/anna/anaconda3/envs/conda3_env/lib/python3.6/site-packages/matplotlib/__init__.py:841: UserWarning: Found matplotlib configuration in ~/.matplotlib/. To conform with the XDG base directory standard, this configuration location has been deprecated on Linux, and the new location is now /home/anna/.config/matplotlib/. Please move your configuration there to ensure that matplotlib will continue to find it in the future.\n",
      "  _get_xdg_config_dir())\n"
     ]
    }
   ],
   "source": [
    "import pandas\n",
    "import numpy as np\n",
    "import matplotlib.pyplot as plt\n",
    "import math\n",
    "import pickle\n",
    "import time\n",
    "from IPython.display import clear_output"
   ]
  },
  {
   "cell_type": "markdown",
   "metadata": {},
   "source": [
    "The following blocks only need to be executed if you haven't already cleaned the essay text and pickled the dataframe."
   ]
  },
  {
   "cell_type": "code",
   "execution_count": 3,
   "metadata": {
    "collapsed": false
   },
   "outputs": [],
   "source": [
    "profiles=pandas.read_csv('profiles.csv')\n",
    "Nprofiles=len(profiles)                       "
   ]
  },
  {
   "cell_type": "code",
   "execution_count": 3,
   "metadata": {
    "collapsed": false
   },
   "outputs": [
    {
     "data": {
      "text/html": [
       "<div>\n",
       "<style>\n",
       "    .dataframe thead tr:only-child th {\n",
       "        text-align: right;\n",
       "    }\n",
       "\n",
       "    .dataframe thead th {\n",
       "        text-align: left;\n",
       "    }\n",
       "\n",
       "    .dataframe tbody tr th {\n",
       "        vertical-align: top;\n",
       "    }\n",
       "</style>\n",
       "<table border=\"1\" class=\"dataframe\">\n",
       "  <thead>\n",
       "    <tr style=\"text-align: right;\">\n",
       "      <th></th>\n",
       "      <th>age</th>\n",
       "      <th>body_type</th>\n",
       "      <th>diet</th>\n",
       "      <th>drinks</th>\n",
       "      <th>drugs</th>\n",
       "      <th>education</th>\n",
       "      <th>essay0</th>\n",
       "      <th>essay1</th>\n",
       "      <th>essay2</th>\n",
       "      <th>essay3</th>\n",
       "      <th>...</th>\n",
       "      <th>location</th>\n",
       "      <th>offspring</th>\n",
       "      <th>orientation</th>\n",
       "      <th>pets</th>\n",
       "      <th>religion</th>\n",
       "      <th>sex</th>\n",
       "      <th>sign</th>\n",
       "      <th>smokes</th>\n",
       "      <th>speaks</th>\n",
       "      <th>status</th>\n",
       "    </tr>\n",
       "  </thead>\n",
       "  <tbody>\n",
       "    <tr>\n",
       "      <th>0</th>\n",
       "      <td>22</td>\n",
       "      <td>a little extra</td>\n",
       "      <td>strictly anything</td>\n",
       "      <td>socially</td>\n",
       "      <td>never</td>\n",
       "      <td>working on college/university</td>\n",
       "      <td>about me:&lt;br /&gt;\\n&lt;br /&gt;\\ni would love to think...</td>\n",
       "      <td>currently working as an international agent fo...</td>\n",
       "      <td>making people laugh.&lt;br /&gt;\\nranting about a go...</td>\n",
       "      <td>the way i look. i am a six foot half asian, ha...</td>\n",
       "      <td>...</td>\n",
       "      <td>south san francisco, california</td>\n",
       "      <td>doesn&amp;rsquo;t have kids, but might want them</td>\n",
       "      <td>straight</td>\n",
       "      <td>likes dogs and likes cats</td>\n",
       "      <td>agnosticism and very serious about it</td>\n",
       "      <td>m</td>\n",
       "      <td>gemini</td>\n",
       "      <td>sometimes</td>\n",
       "      <td>english</td>\n",
       "      <td>single</td>\n",
       "    </tr>\n",
       "    <tr>\n",
       "      <th>1</th>\n",
       "      <td>35</td>\n",
       "      <td>average</td>\n",
       "      <td>mostly other</td>\n",
       "      <td>often</td>\n",
       "      <td>sometimes</td>\n",
       "      <td>working on space camp</td>\n",
       "      <td>i am a chef: this is what that means.&lt;br /&gt;\\n1...</td>\n",
       "      <td>dedicating everyday to being an unbelievable b...</td>\n",
       "      <td>being silly. having ridiculous amonts of fun w...</td>\n",
       "      <td>NaN</td>\n",
       "      <td>...</td>\n",
       "      <td>oakland, california</td>\n",
       "      <td>doesn&amp;rsquo;t have kids, but might want them</td>\n",
       "      <td>straight</td>\n",
       "      <td>likes dogs and likes cats</td>\n",
       "      <td>agnosticism but not too serious about it</td>\n",
       "      <td>m</td>\n",
       "      <td>cancer</td>\n",
       "      <td>no</td>\n",
       "      <td>english (fluently), spanish (poorly), french (...</td>\n",
       "      <td>single</td>\n",
       "    </tr>\n",
       "    <tr>\n",
       "      <th>2</th>\n",
       "      <td>38</td>\n",
       "      <td>thin</td>\n",
       "      <td>anything</td>\n",
       "      <td>socially</td>\n",
       "      <td>NaN</td>\n",
       "      <td>graduated from masters program</td>\n",
       "      <td>i'm not ashamed of much, but writing public te...</td>\n",
       "      <td>i make nerdy software for musicians, artists, ...</td>\n",
       "      <td>improvising in different contexts. alternating...</td>\n",
       "      <td>my large jaw and large glasses are the physica...</td>\n",
       "      <td>...</td>\n",
       "      <td>san francisco, california</td>\n",
       "      <td>NaN</td>\n",
       "      <td>straight</td>\n",
       "      <td>has cats</td>\n",
       "      <td>NaN</td>\n",
       "      <td>m</td>\n",
       "      <td>pisces but it doesn&amp;rsquo;t matter</td>\n",
       "      <td>no</td>\n",
       "      <td>english, french, c++</td>\n",
       "      <td>available</td>\n",
       "    </tr>\n",
       "    <tr>\n",
       "      <th>3</th>\n",
       "      <td>23</td>\n",
       "      <td>thin</td>\n",
       "      <td>vegetarian</td>\n",
       "      <td>socially</td>\n",
       "      <td>NaN</td>\n",
       "      <td>working on college/university</td>\n",
       "      <td>i work in a library and go to school. . .</td>\n",
       "      <td>reading things written by old dead people</td>\n",
       "      <td>playing synthesizers and organizing books acco...</td>\n",
       "      <td>socially awkward but i do my best</td>\n",
       "      <td>...</td>\n",
       "      <td>berkeley, california</td>\n",
       "      <td>doesn&amp;rsquo;t want kids</td>\n",
       "      <td>straight</td>\n",
       "      <td>likes cats</td>\n",
       "      <td>NaN</td>\n",
       "      <td>m</td>\n",
       "      <td>pisces</td>\n",
       "      <td>no</td>\n",
       "      <td>english, german (poorly)</td>\n",
       "      <td>single</td>\n",
       "    </tr>\n",
       "    <tr>\n",
       "      <th>4</th>\n",
       "      <td>29</td>\n",
       "      <td>athletic</td>\n",
       "      <td>NaN</td>\n",
       "      <td>socially</td>\n",
       "      <td>never</td>\n",
       "      <td>graduated from college/university</td>\n",
       "      <td>hey how's it going? currently vague on the pro...</td>\n",
       "      <td>work work work work + play</td>\n",
       "      <td>creating imagery to look at:&lt;br /&gt;\\nhttp://bag...</td>\n",
       "      <td>i smile a lot and my inquisitive nature</td>\n",
       "      <td>...</td>\n",
       "      <td>san francisco, california</td>\n",
       "      <td>NaN</td>\n",
       "      <td>straight</td>\n",
       "      <td>likes dogs and likes cats</td>\n",
       "      <td>NaN</td>\n",
       "      <td>m</td>\n",
       "      <td>aquarius</td>\n",
       "      <td>no</td>\n",
       "      <td>english</td>\n",
       "      <td>single</td>\n",
       "    </tr>\n",
       "  </tbody>\n",
       "</table>\n",
       "<p>5 rows × 31 columns</p>\n",
       "</div>"
      ],
      "text/plain": [
       "   age       body_type               diet    drinks      drugs  \\\n",
       "0   22  a little extra  strictly anything  socially      never   \n",
       "1   35         average       mostly other     often  sometimes   \n",
       "2   38            thin           anything  socially        NaN   \n",
       "3   23            thin         vegetarian  socially        NaN   \n",
       "4   29        athletic                NaN  socially      never   \n",
       "\n",
       "                           education  \\\n",
       "0      working on college/university   \n",
       "1              working on space camp   \n",
       "2     graduated from masters program   \n",
       "3      working on college/university   \n",
       "4  graduated from college/university   \n",
       "\n",
       "                                              essay0  \\\n",
       "0  about me:<br />\\n<br />\\ni would love to think...   \n",
       "1  i am a chef: this is what that means.<br />\\n1...   \n",
       "2  i'm not ashamed of much, but writing public te...   \n",
       "3          i work in a library and go to school. . .   \n",
       "4  hey how's it going? currently vague on the pro...   \n",
       "\n",
       "                                              essay1  \\\n",
       "0  currently working as an international agent fo...   \n",
       "1  dedicating everyday to being an unbelievable b...   \n",
       "2  i make nerdy software for musicians, artists, ...   \n",
       "3          reading things written by old dead people   \n",
       "4                         work work work work + play   \n",
       "\n",
       "                                              essay2  \\\n",
       "0  making people laugh.<br />\\nranting about a go...   \n",
       "1  being silly. having ridiculous amonts of fun w...   \n",
       "2  improvising in different contexts. alternating...   \n",
       "3  playing synthesizers and organizing books acco...   \n",
       "4  creating imagery to look at:<br />\\nhttp://bag...   \n",
       "\n",
       "                                              essay3    ...      \\\n",
       "0  the way i look. i am a six foot half asian, ha...    ...       \n",
       "1                                                NaN    ...       \n",
       "2  my large jaw and large glasses are the physica...    ...       \n",
       "3                  socially awkward but i do my best    ...       \n",
       "4            i smile a lot and my inquisitive nature    ...       \n",
       "\n",
       "                          location  \\\n",
       "0  south san francisco, california   \n",
       "1              oakland, california   \n",
       "2        san francisco, california   \n",
       "3             berkeley, california   \n",
       "4        san francisco, california   \n",
       "\n",
       "                                      offspring orientation  \\\n",
       "0  doesn&rsquo;t have kids, but might want them    straight   \n",
       "1  doesn&rsquo;t have kids, but might want them    straight   \n",
       "2                                           NaN    straight   \n",
       "3                       doesn&rsquo;t want kids    straight   \n",
       "4                                           NaN    straight   \n",
       "\n",
       "                        pets                                  religion sex  \\\n",
       "0  likes dogs and likes cats     agnosticism and very serious about it   m   \n",
       "1  likes dogs and likes cats  agnosticism but not too serious about it   m   \n",
       "2                   has cats                                       NaN   m   \n",
       "3                 likes cats                                       NaN   m   \n",
       "4  likes dogs and likes cats                                       NaN   m   \n",
       "\n",
       "                                 sign     smokes  \\\n",
       "0                              gemini  sometimes   \n",
       "1                              cancer         no   \n",
       "2  pisces but it doesn&rsquo;t matter         no   \n",
       "3                              pisces         no   \n",
       "4                            aquarius         no   \n",
       "\n",
       "                                              speaks     status  \n",
       "0                                            english     single  \n",
       "1  english (fluently), spanish (poorly), french (...     single  \n",
       "2                               english, french, c++  available  \n",
       "3                           english, german (poorly)     single  \n",
       "4                                            english     single  \n",
       "\n",
       "[5 rows x 31 columns]"
      ]
     },
     "execution_count": 3,
     "metadata": {},
     "output_type": "execute_result"
    }
   ],
   "source": [
    "profiles.head()"
   ]
  },
  {
   "cell_type": "markdown",
   "metadata": {},
   "source": [
    "Since there are too many columns for `head()` to display the response categories, these are the column names:"
   ]
  },
  {
   "cell_type": "code",
   "execution_count": 4,
   "metadata": {
    "collapsed": false
   },
   "outputs": [
    {
     "data": {
      "text/plain": [
       "['age',\n",
       " 'body_type',\n",
       " 'diet',\n",
       " 'drinks',\n",
       " 'drugs',\n",
       " 'education',\n",
       " 'essay0',\n",
       " 'essay1',\n",
       " 'essay2',\n",
       " 'essay3',\n",
       " 'essay4',\n",
       " 'essay5',\n",
       " 'essay6',\n",
       " 'essay7',\n",
       " 'essay8',\n",
       " 'essay9',\n",
       " 'ethnicity',\n",
       " 'height',\n",
       " 'income',\n",
       " 'job',\n",
       " 'last_online',\n",
       " 'location',\n",
       " 'offspring',\n",
       " 'orientation',\n",
       " 'pets',\n",
       " 'religion',\n",
       " 'sex',\n",
       " 'sign',\n",
       " 'smokes',\n",
       " 'speaks',\n",
       " 'status']"
      ]
     },
     "execution_count": 4,
     "metadata": {},
     "output_type": "execute_result"
    }
   ],
   "source": [
    "profiles.columns.tolist()"
   ]
  },
  {
   "cell_type": "markdown",
   "metadata": {},
   "source": [
    "The imported data for the essay prompt answers has a lot of newline and break characters, need to remove these, as well as other common phrases (e.g. 'about me') that will show up as frequently used but aren't really useful for studying the people in this sample."
   ]
  },
  {
   "cell_type": "markdown",
   "metadata": {},
   "source": [
    "#### Before cleaning up"
   ]
  },
  {
   "cell_type": "code",
   "execution_count": 5,
   "metadata": {
    "collapsed": false,
    "scrolled": true
   },
   "outputs": [
    {
     "data": {
      "text/plain": [
       "\"about me:<br />\\n<br />\\ni would love to think that i was some some kind of intellectual:\\neither the dumbest smart guy, or the smartest dumb guy. can't say i\\ncan tell the difference. i love to talk about ideas and concepts. i\\nforge odd metaphors instead of reciting cliches. like the\\nsimularities between a friend of mine's house and an underwater\\nsalt mine. my favorite word is salt by the way (weird choice i\\nknow). to me most things in life are better as metaphors. i seek to\\nmake myself a little better everyday, in some productively lazy\\nway. got tired of tying my shoes. considered hiring a five year\\nold, but would probably have to tie both of our shoes... decided to\\nonly wear leather shoes dress shoes.<br />\\n<br />\\nabout you:<br />\\n<br />\\nyou love to have really serious, really deep conversations about\\nreally silly stuff. you have to be willing to snap me out of a\\nlight hearted rant with a kiss. you don't have to be funny, but you\\nhave to be able to make me laugh. you should be able to bend spoons\\nwith your mind, and telepathically make me smile while i am still\\nat work. you should love life, and be cool with just letting the\\nwind blow. extra points for reading all this and guessing my\\nfavorite video game (no hints given yet). and lastly you have a\\ngood attention span.\""
      ]
     },
     "execution_count": 5,
     "metadata": {},
     "output_type": "execute_result"
    }
   ],
   "source": [
    "profiles['essay0'][0]"
   ]
  },
  {
   "cell_type": "code",
   "execution_count": 21,
   "metadata": {
    "collapsed": false
   },
   "outputs": [
    {
     "name": "stdout",
     "output_type": "stream",
     "text": [
      "  i would love to think that i was some some kind of intellectual: either the dumbest smart guy, or the smartest dumb guy. can't say i can tell the difference. i love to talk about ideas and concepts. i forge odd metaphors instead of reciting cliches. like the simularities between a friend of mine's house and an underwater salt mine. my favorite word is salt by the way (weird choice i know). to me most things in life are better as metaphors. i seek to make myself a little better everyday, in some productively lazy way. got tired of tying my shoes. considered hiring a five year old, but would probably have to tie both of our shoes... decided to only wear leather shoes dress shoes.    you love to have really serious, really deep conversations about really silly stuff. you have to be willing to snap me out of a light hearted rant with a kiss. you don't have to be funny, but you have to be able to make me laugh. you should be able to bend spoons with your mind, and telepathically make me smile while i am still at work. you should love life, and be cool with just letting the wind blow. extra points for reading all this and guessing my favorite video game (no hints given yet). and lastly you have a good attention span.\n"
     ]
    }
   ],
   "source": [
    "temp=profiles['essay0'][0].replace(\"\\n\", \" \")\n",
    "temp=temp.replace(\"<br />\", \"\")\n",
    "temp=temp.replace(\"about me:\", \"\")\n",
    "temp=temp.replace(\"about you:\", \"\")\n",
    "print(temp)"
   ]
  },
  {
   "cell_type": "markdown",
   "metadata": {},
   "source": [
    "#### Take out newlines and breaks from essay answer text for all rows"
   ]
  },
  {
   "cell_type": "code",
   "execution_count": 15,
   "metadata": {
    "collapsed": false
   },
   "outputs": [
    {
     "name": "stdout",
     "output_type": "stream",
     "text": [
      "59900 / 59946\n"
     ]
    }
   ],
   "source": [
    "#make list of column names for essay responses\n",
    "essays_list=['essay'+repr(i) for i in range(0,10)]\n",
    "\n",
    "#for each individual's ten essay responses, remove \"\\n\", \"<br />\", \"about me: \", \"about you:\"\n",
    "for i in range(Nprofiles):\n",
    "    for essaycol in essays_list:\n",
    "        profile=profiles[essaycol][i]\n",
    "        if isinstance(profile, str)==True:\n",
    "            profile=profile.replace(\"\\n\", \" \")\n",
    "            profile=profile.replace(\"<br />\", \"\")\n",
    "            profile=profile.replace(\"/\", \" \")\n",
    "            profile=profile.replace(\"about me:\", \"\")\n",
    "            profile=profile.replace(\"about you:\", \"\")\n",
    "            profiles[essaycol][i] = profile\n",
    "    if i%50==0:\n",
    "        clear_output()\n",
    "        print(i,'/',Nprofiles)\n",
    "        \n",
    "# pickle resulting cleaned profile dataframe \n",
    "#picklefile=open('cleaned_profiles.p','wb')\n",
    "#pickle.dump(profiles, picklefile)\n",
    "#picklefile.close()"
   ]
  },
  {
   "cell_type": "code",
   "execution_count": 5,
   "metadata": {
    "collapsed": false
   },
   "outputs": [],
   "source": [
    "profiles=pickle.load(open('cleaned_profiles.p', 'rb'))"
   ]
  },
  {
   "cell_type": "code",
   "execution_count": 168,
   "metadata": {
    "collapsed": true
   },
   "outputs": [],
   "source": [
    "from nltk.tokenize import sent_tokenize, word_tokenize\n",
    "from nltk.corpus import stopwords\n",
    "from nltk import SnowballStemmer\n"
   ]
  },
  {
   "cell_type": "markdown",
   "metadata": {},
   "source": [
    "Before and after example of what a tokenized essay (the corpus) looks like before and after stop word removal:\n",
    "\n",
    "#### Before "
   ]
  },
  {
   "cell_type": "code",
   "execution_count": 18,
   "metadata": {
    "collapsed": false
   },
   "outputs": [
    {
     "name": "stdout",
     "output_type": "stream",
     "text": [
      "['i', 'would', 'love', 'to', 'think', 'that', 'i', 'was', 'some', 'some', 'kind', 'of', 'intellectual', ':', 'either', 'the', 'dumbest', 'smart', 'guy', ',', 'or', 'the', 'smartest', 'dumb', 'guy', '.', 'ca', \"n't\", 'say', 'i', 'can', 'tell', 'the', 'difference', '.', 'i', 'love', 'to', 'talk', 'about', 'ideas', 'and', 'concepts', '.', 'i', 'forge', 'odd', 'metaphors', 'instead', 'of', 'reciting', 'cliches', '.', 'like', 'the', 'simularities', 'between', 'a', 'friend', 'of', 'mine', \"'s\", 'house', 'and', 'an', 'underwater', 'salt', 'mine', '.', 'my', 'favorite', 'word', 'is', 'salt', 'by', 'the', 'way', '(', 'weird', 'choice', 'i', 'know', ')', '.', 'to', 'me', 'most', 'things', 'in', 'life', 'are', 'better', 'as', 'metaphors', '.', 'i', 'seek', 'to', 'make', 'myself', 'a', 'little', 'better', 'everyday', ',', 'in', 'some', 'productively', 'lazy', 'way', '.', 'got', 'tired', 'of', 'tying', 'my', 'shoes', '.', 'considered', 'hiring', 'a', 'five', 'year', 'old', ',', 'but', 'would', 'probably', 'have', 'to', 'tie', 'both', 'of', 'our', 'shoes', '...', 'decided', 'to', 'only', 'wear', 'leather', 'shoes', 'dress', 'shoes', '.', 'you', 'love', 'to', 'have', 'really', 'serious', ',', 'really', 'deep', 'conversations', 'about', 'really', 'silly', 'stuff', '.', 'you', 'have', 'to', 'be', 'willing', 'to', 'snap', 'me', 'out', 'of', 'a', 'light', 'hearted', 'rant', 'with', 'a', 'kiss', '.', 'you', 'do', \"n't\", 'have', 'to', 'be', 'funny', ',', 'but', 'you', 'have', 'to', 'be', 'able', 'to', 'make', 'me', 'laugh', '.', 'you', 'should', 'be', 'able', 'to', 'bend', 'spoons', 'with', 'your', 'mind', ',', 'and', 'telepathically', 'make', 'me', 'smile', 'while', 'i', 'am', 'still', 'at', 'work', '.', 'you', 'should', 'love', 'life', ',', 'and', 'be', 'cool', 'with', 'just', 'letting', 'the', 'wind', 'blow', '.', 'extra', 'points', 'for', 'reading', 'all', 'this', 'and', 'guessing', 'my', 'favorite', 'video', 'game', '(', 'no', 'hints', 'given', 'yet', ')', '.', 'and', 'lastly', 'you', 'have', 'a', 'good', 'attention', 'span', '.']\n"
     ]
    }
   ],
   "source": [
    "test_essay=profiles['essay0'][0]\n",
    "words = word_tokenize(test_essay)\n",
    "print(words)"
   ]
  },
  {
   "cell_type": "markdown",
   "metadata": {},
   "source": [
    "#### After"
   ]
  },
  {
   "cell_type": "code",
   "execution_count": 115,
   "metadata": {
    "collapsed": false,
    "scrolled": true
   },
   "outputs": [
    {
     "name": "stdout",
     "output_type": "stream",
     "text": [
      "['would', 'love', 'think', 'kind', 'intellectual', 'either', 'dumbest', 'smart', 'guy', 'smartest', 'dumb', 'guy', 'ca', 'say', 'tell', 'difference', 'love', 'talk', 'ideas', 'concepts', 'forge', 'odd', 'metaphors', 'instead', 'reciting', 'cliches', 'like', 'simularities', 'friend', 'mine', 'house', 'underwater', 'salt', 'mine', 'favorite', 'word', 'salt', 'way', 'weird', 'choice', 'know', 'things', 'life', 'better', 'metaphors', 'seek', 'make', 'little', 'better', 'everyday', 'productively', 'lazy', 'way', 'got', 'tired', 'tying', 'shoes', 'considered', 'hiring', 'five', 'year', 'old', 'would', 'probably', 'tie', 'shoes', 'decided', 'wear', 'leather', 'shoes', 'dress', 'shoes', 'love', 'really', 'serious', 'really', 'deep', 'conversations', 'really', 'silly', 'stuff', 'willing', 'snap', 'light', 'hearted', 'rant', 'kiss', 'funny', 'able', 'make', 'laugh', 'able', 'bend', 'spoons', 'mind', 'telepathically', 'make', 'smile', 'still', 'work', 'love', 'life', 'cool', 'letting', 'wind', 'blow', 'extra', 'points', 'reading', 'guessing', 'favorite', 'video', 'game', 'hints', 'given', 'yet', 'lastly', 'good', 'attention', 'span']\n"
     ]
    }
   ],
   "source": [
    "test_essay=profiles['essay0'][0]\n",
    "\n",
    "# remove stop words, i.e. pronounds, the, a, an, etc.\n",
    "stopWords = set(stopwords.words('english'))\n",
    "# remove punctuation, leftover ends of contractions formed with stop words, and possessives\n",
    "punctuation=['?',':','!', ',' ,'.' ,'(' ,')', '&', '$' ,'/', '...', \"'\", \"n't\", \"'s\", \"'m\", \" 'll \"]\n",
    "\n",
    "\n",
    "words = word_tokenize(test_essay)\n",
    "wordsFiltered = []\n",
    " \n",
    "for w in words:\n",
    "    if w not in stopWords and w not in punctuation:\n",
    "        wordsFiltered.append(w)\n",
    " \n",
    "print(wordsFiltered)"
   ]
  },
  {
   "cell_type": "code",
   "execution_count": 200,
   "metadata": {
    "collapsed": false
   },
   "outputs": [],
   "source": [
    "# define a function to strip out the fluff from all the essays and rejoin into one long string\n",
    "# this is probably inefficient but I can't figure out how to get get_transform to take lists of words as the corpus\n",
    "\n",
    "# if response left blank (NaN), return stop word 'i' just so we don't get stuck with a 'not string' error later on\n",
    "\n",
    "\n",
    "def remove_and_stem(essay, stopWords, punctuation, stemmer=SnowballStemmer(\"english\") ):\n",
    "    if isinstance(essay, str)==True:\n",
    "        words = word_tokenize(essay)\n",
    "        wordsFiltered = []\n",
    "\n",
    "        for w in words:\n",
    "            if w not in stopWords and w not in punctuation:\n",
    "                stemmed_word=stemmer.stem(w)   # stem words (e.g. eating --> eat)\n",
    "                wordsFiltered.append(stemmed_word)\n",
    "        s=\" \"    \n",
    "        \n",
    "        return s.join(wordsFiltered)\n",
    "    else:\n",
    "        return('i')\n",
    "\n"
   ]
  },
  {
   "cell_type": "code",
   "execution_count": 201,
   "metadata": {
    "collapsed": false,
    "scrolled": true
   },
   "outputs": [],
   "source": [
    "processed_corpus_essay0 = [remove_and_stem(response, stopWords, punctuation) for response in profiles['essay0'][:]]"
   ]
  },
  {
   "cell_type": "markdown",
   "metadata": {},
   "source": [
    "### Create training and test sets"
   ]
  },
  {
   "cell_type": "code",
   "execution_count": 251,
   "metadata": {
    "collapsed": false
   },
   "outputs": [],
   "source": [
    "#split the data into training and testing sets. \n",
    "#refactor this in the test train-split\n",
    "\n",
    "frac_training=0.8\n",
    "\n",
    "train_set_size = int(frac_training*Nprofiles)\n",
    "train_idx = np.arange(0,train_set_size)\n",
    "test_idx = np.arange(train_set_size, Nprofiles)\n",
    "\n",
    "train_sex_id = sex_id_binary[0:train_set_size]\n",
    "train_processed_corpus = processed_corpus_essay0[0:train_set_size]\n",
    "\n",
    "test_sex_id = sex_id_binary[train_set_size:Nprofiles]\n",
    "test_processed_corpus = processed_corpus_essay0[train_set_size:Nprofiles]\n",
    "\n"
   ]
  },
  {
   "cell_type": "markdown",
   "metadata": {},
   "source": [
    "### Create model"
   ]
  },
  {
   "cell_type": "code",
   "execution_count": 262,
   "metadata": {
    "collapsed": false
   },
   "outputs": [],
   "source": [
    "from sklearn.feature_extraction.text import CountVectorizer, TfidfTransformer\n",
    "\n",
    "# parameters for vectorizer \n",
    "ANALYZER = \"word\" # unit of features are single words rather then phrases of words \n",
    "STRIP_ACCENTS = 'unicode' \n",
    "TOKENIZER = None\n",
    "NGRAM_RANGE = (0,2) # Range for n-grams \n",
    "MIN_DF = 0.025 # 0.01 Exclude words that are contained in less that x percent of documents \n",
    "MAX_DF = 0.9  # Exclude words that are contained in more than x percent of documents \n",
    "\n",
    "vectorizer = CountVectorizer(analyzer=ANALYZER,\n",
    "                            tokenizer=None, # already did this\n",
    "                            ngram_range=NGRAM_RANGE,\n",
    "                            stop_words = stopwords.words('english'),  # removed these already except for NaN standins\n",
    "                            strip_accents=STRIP_ACCENTS,\n",
    "                            min_df = MIN_DF,\n",
    "                            max_df = MAX_DF)\n",
    "                            # could add 'token_pattern' argument to specify what denotes a token "
   ]
  },
  {
   "cell_type": "code",
   "execution_count": 263,
   "metadata": {
    "collapsed": false
   },
   "outputs": [
    {
     "name": "stdout",
     "output_type": "stream",
     "text": [
      "Time Elapsed: 19.35s\n"
     ]
    }
   ],
   "source": [
    "NORM = None #turn on normalization flag\n",
    "SMOOTH_IDF = True #prvents division by zero errors\n",
    "SUBLINEAR_IDF = True #replace TF with 1 + log(TF)\n",
    "USE_IDF = True #flag to control whether to use TFIDF  -- weighting by discrimination power of words\n",
    "\n",
    "transformer = TfidfTransformer(norm = NORM,smooth_idf = SMOOTH_IDF,sublinear_tf = True)\n",
    "\n",
    "#get the bag-of-words from the vectorizer and\n",
    "#then use TFIDF to weight the tokens found throughout the text \n",
    "start_time = time.time()\n",
    "train_bag_of_words = vectorizer.fit_transform( train_processed_corpus  ) \n",
    "test_bag_of_words = vectorizer.transform( test_processed_corpus )        # document term count matrix\n",
    "if USE_IDF:\n",
    "    train_tfidf = transformer.fit_transform(train_bag_of_words)\n",
    "    test_tfidf = transformer.transform(test_bag_of_words)\n",
    "features = vectorizer.get_feature_names()\n",
    "print('Time Elapsed: {0:.2f}s'.format(\n",
    "        time.time()-start_time))"
   ]
  },
  {
   "cell_type": "markdown",
   "metadata": {},
   "source": [
    "#### convert labels: m/f --> 0/1"
   ]
  },
  {
   "cell_type": "code",
   "execution_count": 264,
   "metadata": {
    "collapsed": false
   },
   "outputs": [],
   "source": [
    "from sklearn import preprocessing\n",
    "\n",
    "# relabel m/f labels to 0/1: f=0, m=1\n",
    "sex=profiles['sex']\n",
    "le = preprocessing.LabelEncoder() \n",
    "le.fit(sex)\n",
    "sex_id_binary = le.transform(sex)"
   ]
  },
  {
   "cell_type": "markdown",
   "metadata": {},
   "source": [
    "### Try to predict whether the author is male or female based on word usage (using just the first essay right now)"
   ]
  },
  {
   "cell_type": "code",
   "execution_count": 265,
   "metadata": {
    "collapsed": false
   },
   "outputs": [],
   "source": [
    "from sklearn.linear_model import LogisticRegression\n",
    "\n",
    "# Fit a regularized logistic regression model  \n",
    "clf = LogisticRegression(penalty='l2')\n",
    "\n",
    "#fit model to TfIDF training data\n",
    "mdl = clf.fit(train_tfidf, \n",
    "              sex_id_binary[train_idx])\n",
    "\n",
    "#probability of test set (high=depression, low=suicide_watch)\n",
    "y_score = mdl.predict_proba( test_tfidf )"
   ]
  },
  {
   "cell_type": "code",
   "execution_count": 290,
   "metadata": {
    "collapsed": false
   },
   "outputs": [
    {
     "data": {
      "image/png": "[encoded data removed]",
      "text/plain": [
       "<matplotlib.figure.Figure at 0x7fa3fa782470>"
      ]
     },
     "metadata": {},
     "output_type": "display_data"
    }
   ],
   "source": [
    "from sklearn.metrics import precision_recall_curve, roc_auc_score, roc_curve, auc\n",
    "def plot_roc(y_true, y_score):\n",
    "\n",
    "    # Compute micro-average ROC curve and ROC area\n",
    "    fpr, tpr, _ = roc_curve(y_true, y_score)\n",
    "    roc_auc = roc_auc_score( y_true, y_score)\n",
    "    \n",
    "    \n",
    "    plt.figure(figsize=(4,4))\n",
    "    lw = 2\n",
    "    plt.plot(fpr, tpr, color='darkorange',\n",
    "         lw=lw, label='ROC curve (area = %0.2f)' % roc_auc)\n",
    "    plt.plot([0, 1], [0, 1], color='navy', lw=lw, linestyle='--')\n",
    "    plt.xlim([0.0, 1.0])\n",
    "    plt.ylim([0.0, 1.01])\n",
    "    #plt.xlabel(r'False Positive Rate')\n",
    "    #plt.ylabel(r'True Positive Rate')\n",
    "    auc_str= (\"%.2f\" % roc_auc)\n",
    "    plt.title( 'AUC = ' + auc_str) \n",
    "    #plt.legend(loc=\"lower right\")\n",
    "    plt.show()\n",
    "    \n",
    "plot_roc(sex_id_binary[train_set_size:], y_score[:,1])"
   ]
  },
  {
   "cell_type": "code",
   "execution_count": 289,
   "metadata": {
    "collapsed": false,
    "scrolled": true
   },
   "outputs": [
    {
     "name": "stdout",
     "output_type": "stream",
     "text": [
      "Prompt: Self summary\n",
      "\n",
      "Top  15  words for female profiles:\n",
      "girl ,  coef= -0.286708557938\n",
      "love ,  coef= -0.201668922411\n",
      "sweet ,  coef= -0.14611555512\n",
      "independ ,  coef= -0.131658475384\n",
      "yoga ,  coef= -0.124728036997\n",
      "silli ,  coef= -0.116073055485\n",
      "danc ,  coef= -0.111461983329\n",
      "laugh ,  coef= -0.101142808914\n",
      "famili ,  coef= -0.0925821079889\n",
      "sing ,  coef= -0.089246378307\n",
      "pleas ,  coef= -0.0764030318831\n",
      "happi ,  coef= -0.0761706475682\n",
      "dog ,  coef= -0.075346121443\n",
      "warm ,  coef= -0.0737860246515\n",
      "tri new ,  coef= -0.071697073109\n",
      "\n",
      "Top  15  words for male profiles:\n",
      "guy ,  coef= 0.360202513142\n",
      "women ,  coef= 0.13654261414\n",
      "laid back ,  coef= 0.122209596046\n",
      "video ,  coef= 0.121957815455\n",
      "sport ,  coef= 0.0951372592661\n",
      "born ,  coef= 0.0863369513049\n",
      "francisco ,  coef= 0.0787602801016\n",
      "music ,  coef= 0.0773273414368\n",
      "play ,  coef= 0.0770761392846\n",
      "href ,  coef= 0.0671906768085\n",
      "cool ,  coef= 0.0664392879183\n",
      "work ,  coef= 0.0642245080135\n",
      "climb ,  coef= 0.0627992048341\n",
      "joke ,  coef= 0.0614282647431\n",
      "open mind ,  coef= 0.0601872618369\n"
     ]
    }
   ],
   "source": [
    "features_stem = vectorizer.get_feature_names()\n",
    "zipped_coef_features = list( zip(mdl.coef_[0], features_stem),  )\n",
    "zipped_coef_features.sort()\n",
    "\n",
    "Ntop_features=15\n",
    "\n",
    "print('Prompt: Self summary')\n",
    "print()\n",
    "\n",
    "print('Top ',repr(Ntop_features),' feature words for female profiles:')\n",
    "\n",
    "for i in range(0,Ntop_features):\n",
    "    print(zipped_coef_features[i][1], ',  coef=',zipped_coef_features[i][0])\n",
    "print()\n",
    "\n",
    "print('Top ',repr(Ntop_features),' feature words for male profiles:')\n",
    "\n",
    "for i in range(0,Ntop_features):\n",
    "    print(zipped_coef_features[len(zipped_coef_features)-i-1][1],',  coef=',zipped_coef_features[len(zipped_coef_features)-i-1][0] )\n"
   ]
  },
  {
   "cell_type": "code",
   "execution_count": null,
   "metadata": {
    "collapsed": true
   },
   "outputs": [],
   "source": [
    "words_f = [zipped_coef_features[i][1] for i in range(0,Ntop_features)]\n",
    "words_m = [zipped_coef_features[len(zipped_coef_features)-i-1][1] for i in range(0,Ntop_features)]"
   ]
  },
  {
   "cell_type": "markdown",
   "metadata": {},
   "source": [
    "### Clustering with singular value decomposition\n",
    "\n",
    "[Scipy reference](http://scikit-learn.org/stable/auto_examples/text/document_clustering.html#sphx-glr-auto-examples-text-document-clustering-py)"
   ]
  },
  {
   "cell_type": "code",
   "execution_count": null,
   "metadata": {
    "collapsed": true
   },
   "outputs": [],
   "source": [
    "from sklearn.decomposition import TruncatedSVD\n",
    "\n",
    "svd = TruncatedSVD(n_components=10, n_iter=7, random_state=42)\n",
    "svd.fit(train_bag_of_words)\n",
    "V = svd.components_\n",
    "PC1, PC2, PC3=V[0],V[1],V[2]"
   ]
  },
  {
   "cell_type": "code",
   "execution_count": null,
   "metadata": {
    "collapsed": true
   },
   "outputs": [],
   "source": [
    "PC1=abs(PC1)\n",
    "PC2=abs(PC2)\n",
    "PC3=abs(PC3)\n",
    "zipped_PCcoef_features = list( zip(PC1, features_stem),  )\n",
    "sorted_PC_features =  zipped_coef_features.sort()"
   ]
  },
  {
   "cell_type": "code",
   "execution_count": null,
   "metadata": {
    "collapsed": true
   },
   "outputs": [],
   "source": [
    "for f in range(0,15):\n",
    "    print(zipped_PCcoef_features[len(zipped_PCcoef_features)-f-1][1],',  coef=',zipped_coef_features[len(zipped_coef_features)-f-1][0] )\n",
    "    print(zipped_coef_features[f][1], ',  coef=',zipped_coef_features[f][0])"
   ]
  }
 ],
 "metadata": {
  "kernelspec": {
   "display_name": "Python 3",
   "language": "python",
   "name": "python3"
  },
  "language_info": {
   "codemirror_mode": {
    "name": "ipython",
    "version": 3
   },
   "file_extension": ".py",
   "mimetype": "text/x-python",
   "name": "python",
   "nbconvert_exporter": "python",
   "pygments_lexer": "ipython3",
   "version": "3.6.1"
  }
 },
 "nbformat": 4,
 "nbformat_minor": 0
}
