{
 "cells": [
  {
   "cell_type": "code",
   "execution_count": 51,
   "metadata": {
    "collapsed": false
   },
   "outputs": [],
   "source": [
    "from importlib import reload\n",
    "import cupid_reader\n",
    "reload(cupid_reader)\n",
    "from cupid_reader import *"
   ]
  },
  {
   "cell_type": "code",
   "execution_count": 45,
   "metadata": {
    "collapsed": true
   },
   "outputs": [],
   "source": [
    "profiles = read_pickle('cleaned_profiles.p')[:]"
   ]
  },
  {
   "cell_type": "markdown",
   "metadata": {},
   "source": [
    "#### Stem and remove punctuation (takes a while)"
   ]
  },
  {
   "cell_type": "code",
   "execution_count": 52,
   "metadata": {
    "collapsed": false
   },
   "outputs": [
    {
     "name": "stdout",
     "output_type": "stream",
     "text": [
      "Removed punctuation, tokenized, and stemmed responses for essay  0\n",
      "Time Elapsed: 198.34s\n"
     ]
    }
   ],
   "source": [
    "essay0 = essay(profiles, essay_num=0, frac_training=0.8)\n",
    "essay0.stem_and_remove_punctuation(stemmer=SnowballStemmer(\"english\") )"
   ]
  },
  {
   "cell_type": "markdown",
   "metadata": {},
   "source": [
    "#### Covert prediction text labels to numeric, then split prediction set (gender in this case) into training and test subsets"
   ]
  },
  {
   "cell_type": "code",
   "execution_count": 47,
   "metadata": {
    "collapsed": false
   },
   "outputs": [],
   "source": [
    "# create numeric ids, training/test subsets for the prediction column\n",
    "gender_prediction = prediction(profiles, 'sex', frac_training=0.8)\n",
    "orientation_prediction = prediction(profiles, 'orientation', frac_training=0.8)\n"
   ]
  },
  {
   "cell_type": "code",
   "execution_count": 10,
   "metadata": {
    "collapsed": false
   },
   "outputs": [
    {
     "name": "stdout",
     "output_type": "stream",
     "text": [
      "(0, 'bisexual')\n",
      "(2, 'straight')\n",
      "(1, 'gay')\n"
     ]
    }
   ],
   "source": [
    "for i, id in enumerate(orientation_prediction.id_pairs):\n",
    "    print(id)"
   ]
  },
  {
   "cell_type": "markdown",
   "metadata": {},
   "source": [
    "#### Split responses into training/test, convert to vector representation, apply TDFIF transform (weighting words) and fit to training data and then apply transform to data"
   ]
  },
  {
   "cell_type": "code",
   "execution_count": 53,
   "metadata": {
    "collapsed": false
   },
   "outputs": [
    {
     "name": "stdout",
     "output_type": "stream",
     "text": [
      "Best min_df:  0.00403571428571\n",
      "Time Elapsed: 97.42s\n"
     ]
    }
   ],
   "source": [
    "# split into training and test sets\n",
    "essay0.train_test_split(frac_training=0.8)\n",
    "\n",
    "# vectorize, transform, use logistic regression and find best min_DF value\n",
    "# save model and y scores for best min_df\n",
    "essay0.fit_with_bestMinDF(gender_prediction, 'gender', ngram_max=1, minDF_range=np.linspace(5e-4, 5e-2, 15), maxDF=0.9)\n"
   ]
  },
  {
   "cell_type": "code",
   "execution_count": 54,
   "metadata": {
    "collapsed": false,
    "scrolled": true
   },
   "outputs": [
    {
     "name": "stdout",
     "output_type": "stream",
     "text": [
      "Top feature words for category:  gender\n",
      "Top  15  feature words for  f  profiles:\n",
      "heel ,  coef= -0.313819553225\n",
      "sassi ,  coef= -0.303571928305\n",
      "girl ,  coef= -0.30044154143\n",
      "gal ,  coef= -0.281937092214\n",
      "men ,  coef= -0.254415440881\n",
      "chick ,  coef= -0.23207770918\n",
      "love ,  coef= -0.20525957007\n",
      "bake ,  coef= -0.165286971561\n",
      "feminin ,  coef= -0.152084979883\n",
      "queer ,  coef= -0.151837766265\n",
      "yoga ,  coef= -0.151340043166\n",
      "sweet ,  coef= -0.141890905999\n",
      "independ ,  coef= -0.1404675646\n",
      "craft ,  coef= -0.134319000367\n",
      "ador ,  coef= -0.132112683613\n",
      "\n",
      "Top  15  feature words for  m  profiles:\n",
      "guy ,  coef= 0.376845659193\n",
      "masculin ,  coef= 0.217611553894\n",
      "women ,  coef= 0.204723954434\n",
      "href ,  coef= 0.192230138236\n",
      "dude ,  coef= 0.184732292363\n",
      "dj ,  coef= 0.174061687449\n",
      "father ,  coef= 0.162512732322\n",
      "martial ,  coef= 0.14829364378\n",
      "engin ,  coef= 0.147801136132\n",
      "motorcycl ,  coef= 0.147070776032\n",
      "softwar ,  coef= 0.144111558538\n",
      "musician ,  coef= 0.14294271957\n",
      "guitar ,  coef= 0.139251074668\n",
      "construct ,  coef= 0.137338133588\n",
      "gentleman ,  coef= 0.136372188856\n",
      "\n"
     ]
    }
   ],
   "source": [
    "essay0.get_top_features('gender', gender_prediction, Ntop_features=15)"
   ]
  },
  {
   "cell_type": "code",
   "execution_count": 36,
   "metadata": {
    "collapsed": false
   },
   "outputs": [
    {
     "data": {
      "text/plain": [
       "(1, 24417)"
      ]
     },
     "execution_count": 36,
     "metadata": {},
     "output_type": "execute_result"
    }
   ],
   "source": [
    "mdl=essay0.retrieve_model('gender')\n",
    "mdl.coef_"
   ]
  },
  {
   "cell_type": "markdown",
   "metadata": {},
   "source": [
    "#### Plot ROC curve for the model"
   ]
  },
  {
   "cell_type": "code",
   "execution_count": 55,
   "metadata": {
    "collapsed": false,
    "scrolled": true
   },
   "outputs": [
    {
     "data": {
      "image/png": "[encoded data removed]",
      "text/plain": [
       "<matplotlib.figure.Figure at 0x7f46f853c358>"
      ]
     },
     "metadata": {},
     "output_type": "display_data"
    }
   ],
   "source": [
    "essay0.plotROC('gender', gender_prediction)\n"
   ]
  },
  {
   "cell_type": "code",
   "execution_count": 37,
   "metadata": {
    "collapsed": false,
    "scrolled": true
   },
   "outputs": [],
   "source": [
    "# don't fit for best minDF for multiclass orientation prediction--hard to classify when most are in one category (straight) and much less in others (gay/bi)?\n",
    "essay0.train_test_split(frac_training=0.8)\n",
    "vectorizer = essay0.vectorizer_init(ngram_max=3, min_df=0.0005, max_df=0.9)\n",
    "essay0.transformer_init()\n",
    "train_tfidf, test_tfidf = essay0.bagWords_and_transform(vectorizer, showTime=True)\n",
    "mdl, yScore = essay0.logRegression(orientation_prediction, train_tfidf, test_tfidf)"
   ]
  },
  {
   "cell_type": "code",
   "execution_count": 26,
   "metadata": {
    "collapsed": false
   },
   "outputs": [
    {
     "ename": "ValueError",
     "evalue": "The truth value of an array with more than one element is ambiguous. Use a.any() or a.all()",
     "output_type": "error",
     "traceback": [
      "\u001b[0;31m---------------------------------------------------------------------------\u001b[0m",
      "\u001b[0;31mValueError\u001b[0m                                Traceback (most recent call last)",
      "\u001b[0;32m<ipython-input-26-56a197436f8f>\u001b[0m in \u001b[0;36m<module>\u001b[0;34m()\u001b[0m\n\u001b[1;32m      2\u001b[0m \u001b[0mfeatures_stem\u001b[0m \u001b[0;34m=\u001b[0m \u001b[0mvectorizer\u001b[0m\u001b[0;34m.\u001b[0m\u001b[0mget_feature_names\u001b[0m\u001b[0;34m(\u001b[0m\u001b[0;34m)\u001b[0m\u001b[0;34m\u001b[0m\u001b[0m\n\u001b[1;32m      3\u001b[0m \u001b[0mzipped_coef_features\u001b[0m \u001b[0;34m=\u001b[0m \u001b[0mlist\u001b[0m\u001b[0;34m(\u001b[0m \u001b[0mzip\u001b[0m\u001b[0;34m(\u001b[0m\u001b[0mmdl\u001b[0m\u001b[0;34m.\u001b[0m\u001b[0mcoef_\u001b[0m\u001b[0;34m,\u001b[0m \u001b[0mfeatures_stem\u001b[0m\u001b[0;34m)\u001b[0m\u001b[0;34m,\u001b[0m  \u001b[0;34m)\u001b[0m\u001b[0;34m\u001b[0m\u001b[0m\n\u001b[0;32m----> 4\u001b[0;31m \u001b[0mzipped_coef_features\u001b[0m\u001b[0;34m.\u001b[0m\u001b[0msort\u001b[0m\u001b[0;34m(\u001b[0m\u001b[0;34m)\u001b[0m\u001b[0;34m\u001b[0m\u001b[0m\n\u001b[0m",
      "\u001b[0;31mValueError\u001b[0m: The truth value of an array with more than one element is ambiguous. Use a.any() or a.all()"
     ]
    }
   ],
   "source": [
    "essay0.add_prediction('orientation', mdl, vectorizer, train_tfidf, test_tfidf)\n",
    "features_stem = vectorizer.get_feature_names()\n",
    "zipped_coef_features = list( zip(mdl.coef_[cat_idx], features_stem),  )\n",
    "zipped_coef_features.sort()"
   ]
  },
  {
   "cell_type": "code",
   "execution_count": 39,
   "metadata": {
    "collapsed": false
   },
   "outputs": [
    {
     "data": {
      "text/plain": [
       "3"
      ]
     },
     "execution_count": 39,
     "metadata": {},
     "output_type": "execute_result"
    }
   ],
   "source": [
    "mdl.coef_.shape[0]"
   ]
  },
  {
   "cell_type": "code",
   "execution_count": null,
   "metadata": {
    "collapsed": true
   },
   "outputs": [],
   "source": []
  }
 ],
 "metadata": {
  "kernelspec": {
   "display_name": "Python 3",
   "language": "python",
   "name": "python3"
  },
  "language_info": {
   "codemirror_mode": {
    "name": "ipython",
    "version": 3
   },
   "file_extension": ".py",
   "mimetype": "text/x-python",
   "name": "python",
   "nbconvert_exporter": "python",
   "pygments_lexer": "ipython3",
   "version": "3.6.1"
  }
 },
 "nbformat": 4,
 "nbformat_minor": 0
}
