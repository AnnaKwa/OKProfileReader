{
 "cells": [
  {
   "cell_type": "markdown",
   "metadata": {},
   "source": [
    "### Can you guess someone's gender/orientation/age/etc. by their writing?\n",
    "\n",
    "As my first non-physics related side project, I thought it would be fun to try out some stuff I learned at a natural language processing workshop and see if I could find any interesting patterns in online dating profiles. As a first pass, I analyzed the essay responses of OkCupid users to see if people's profile writing styles could be used to predict things about them, such as their (self-identified) gender, age, orientation, drug use, diet, etc.\n",
    "\n",
    "This project utilizes a public dataset of OkCupid users' profile information. Unlike another somewhat notorious OkCupid dataset that was released, this one has the explicit permission of the OkCupid people to be used for educational purposes. The data was scraped by Albert Kim and Adriana Escobedo-Land of Reed College, who made it available on [this GitHub page](https://github.com/rudeboybert/JSE_OkCupid) and also wrote up [a nice paper](http://ww2.amstat.org/publications/jse/v23n2/kim.pdf) on how to use it in intro statistics/data science courses. (The analysis below is different from the one described in their publication.)\n",
    "\n",
    "### The dataset\n",
    "\n",
    "The dataset contains profile information for 59,946 users in the San Francisco area who were registered in June 2012. Information such as sex, orientation, smoking habits are stored along with their text responses to ten essay questions. "
   ]
  },
  {
   "cell_type": "code",
   "execution_count": null,
   "metadata": {
    "collapsed": true
   },
   "outputs": [],
   "source": [
    "import pandas\n",
    "import numpy as np\n",
    "import matplotlib.pyplot as plt\n",
    "import math\n",
    "import pickle\n",
    "import time\n",
    "from IPython.display import clear_output"
   ]
  },
  {
   "cell_type": "code",
   "execution_count": null,
   "metadata": {
    "collapsed": true
   },
   "outputs": [],
   "source": [
    "profiles=pandas.read_csv('profiles.csv')\n",
    "Nprofiles=len(profiles)                       \n",
    "profiles.columns.tolist()"
   ]
  },
  {
   "cell_type": "markdown",
   "metadata": {},
   "source": [
    "The essay prompts corresponding to the columns 'Essay 0...9' are\n",
    "\n",
    "\n",
    "* essay0: My self summary\n",
    "* essay1: What I’m doing with my life\n",
    "* essay2: I’m really good at\n",
    "* essay3: The first thing people usually notice about me\n",
    "* essay4: Favorite books, movies, show, music, and food\n",
    "* essay5: The six things I could never do without\n",
    "* essay6: I spend a lot of time thinking about\n",
    "* essay7: On a typical Friday night I am\n",
    "* essay8: The most private thing I am willing to admit\n",
    "* essay9: You should message me if...\n"
   ]
  },
  {
   "cell_type": "code",
   "execution_count": null,
   "metadata": {
    "collapsed": true
   },
   "outputs": [],
   "source": []
  },
  {
   "cell_type": "code",
   "execution_count": null,
   "metadata": {
    "collapsed": true
   },
   "outputs": [],
   "source": []
  }
 ],
 "metadata": {
  "kernelspec": {
   "display_name": "Python 3",
   "language": "python",
   "name": "python3"
  },
  "language_info": {
   "codemirror_mode": {
    "name": "ipython",
    "version": 3
   },
   "file_extension": ".py",
   "mimetype": "text/x-python",
   "name": "python",
   "nbconvert_exporter": "python",
   "pygments_lexer": "ipython3",
   "version": "3.6.1"
  }
 },
 "nbformat": 4,
 "nbformat_minor": 0
}
