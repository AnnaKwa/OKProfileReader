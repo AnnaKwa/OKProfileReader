{
 "cells": [
  {
   "cell_type": "markdown",
   "metadata": {},
   "source": [
    "### Can you guess someone's gender/orientation/age/etc. by their writing?\n",
    "\n",
    "As my first non-physics related side project, I thought it would be fun to try out some stuff I learned at a natural language processing workshop and see if I could find any interesting patterns in online dating profiles. As a first pass, I analyzed the essay responses of OkCupid users to see if people's profile writing styles could be used to predict things about them, such as their (self-identified) gender, age, orientation, drug use, etc.\n",
    "\n",
    "This project utilizes a public dataset of OkCupid users' profile information. Unlike another somewhat notorious OkCupid dataset that was released, this one has the explicit permission of the OkCupid people to be used for educational purposes. The data was scraped by Albert Kim and Adriana Escobedo-Land of Reed College, who made it available on [this GitHub page](https://github.com/rudeboybert/JSE_OkCupid) and also wrote up [a nice paper](http://ww2.amstat.org/publications/jse/v23n2/kim.pdf) on how to use it in intro statistics/data science courses. (The analysis below is different from the one described in their publication.)\n",
    "\n",
    "### The dataset\n",
    "\n",
    "The dataset contains profile information for "
   ]
  },
  {
   "cell_type": "code",
   "execution_count": null,
   "metadata": {
    "collapsed": true
   },
   "outputs": [],
   "source": []
  },
  {
   "cell_type": "code",
   "execution_count": null,
   "metadata": {
    "collapsed": true
   },
   "outputs": [],
   "source": []
  },
  {
   "cell_type": "code",
   "execution_count": null,
   "metadata": {
    "collapsed": true
   },
   "outputs": [],
   "source": []
  },
  {
   "cell_type": "code",
   "execution_count": null,
   "metadata": {
    "collapsed": true
   },
   "outputs": [],
   "source": []
  },
  {
   "cell_type": "code",
   "execution_count": null,
   "metadata": {
    "collapsed": true
   },
   "outputs": [],
   "source": []
  }
 ],
 "metadata": {
  "kernelspec": {
   "display_name": "Python 3",
   "language": "python",
   "name": "python3"
  },
  "language_info": {
   "codemirror_mode": {
    "name": "ipython",
    "version": 3
   },
   "file_extension": ".py",
   "mimetype": "text/x-python",
   "name": "python",
   "nbconvert_exporter": "python",
   "pygments_lexer": "ipython3",
   "version": "3.6.1"
  }
 },
 "nbformat": 4,
 "nbformat_minor": 0
}
